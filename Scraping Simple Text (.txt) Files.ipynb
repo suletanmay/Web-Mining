{
 "cells": [
  {
   "cell_type": "code",
   "execution_count": 14,
   "metadata": {},
   "outputs": [],
   "source": [
    "\"\"\"\n",
    "A function that reads a file from the web and returns the most frequent word in the file\n",
    "\"\"\"\n",
    "\n",
    "import re\n",
    "import requests\n",
    "from operator import itemgetter"
   ]
  },
  {
   "cell_type": "code",
   "execution_count": 23,
   "metadata": {},
   "outputs": [],
   "source": [
    "def run(url): \n",
    "\n",
    "    freq={} # keep the freq of each word in the file \n",
    "\n",
    "    stopLex=set() #create an empty set of stopwords\n",
    "    fin=open(r\"C:\\Users\\sulet\\Desktop\\BIA 660\\Simple Scraping\\Simple Scraping\\stopwords.txt\") #open the stopwords file \n",
    "    for line in fin: # for each line \n",
    "        stopLex.add(line.strip()) #strip the line to remove white space at the beginning and end of the line\n",
    "    fin.close() # close the connection to the file\n",
    "    \n",
    "    \n",
    "    for i in range(5): # try 5 times\n",
    "        \n",
    "        #send a request to access the url\n",
    "        response=requests.get(url,headers = {'User-Agent':'Mozilla/5.0 (Windows NT 6.1) AppleWebKit/537.36 (KHTML, like Gecko) Chrome/41.0.2228.0 Safari/537.36', })    \n",
    "        if response: # explanation on response codes: https://realpython.com/python-requests/#status-codes\n",
    "            break # we got the file, break the loop\n",
    "        else: print ('failed attempt',i)\n",
    "     \n",
    "    # all five attempts failed, return  None\n",
    "    if not response: return None\n",
    "    \n",
    "    text=response.text# read in the text from the file\n",
    " \n",
    "    text=re.sub('[^a-z]',' ',text.lower()) # replace all non-letter characters  with a space\n",
    "    \n",
    "    words=text.split(' ') # split to get the words in the text \n",
    "\n",
    "    for word in words: # for each word in the sentence \n",
    "        if word=='' or word in stopLex:continue # ignore empty words and stopwords \n",
    "        else: \n",
    "            if word in freq: # we have seen this word before \n",
    "                freq[word]=freq[word]+1 # add 1\n",
    "            else: # first time we see the word\n",
    "                freq[word]=1 # initialize the freq to 1\n",
    "\n",
    "    sorted_words=sorted(freq.items(),key=itemgetter(1),reverse=True)\n",
    "    \n",
    "    return sorted_words[0:10]\n",
    "        "
   ]
  },
  {
   "cell_type": "code",
   "execution_count": 24,
   "metadata": {},
   "outputs": [
    {
     "name": "stdout",
     "output_type": "stream",
     "text": [
      "[('internet', 107), ('domain', 87), ('new', 78), ('name', 68), ('system', 63), ('registries', 54), ('registry', 54), ('u', 49), ('trademark', 43), ('corporation', 42)]\n"
     ]
    }
   ],
   "source": [
    "print(run('http://www.uazone.com/gis/022098fedreg.txt'))"
   ]
  },
  {
   "cell_type": "code",
   "execution_count": 10,
   "metadata": {},
   "outputs": [],
   "source": [
    "#https://www.nongnu.org/ada-mode/NEWS-ada-mode.text"
   ]
  },
  {
   "cell_type": "code",
   "execution_count": null,
   "metadata": {},
   "outputs": [],
   "source": []
  }
 ],
 "metadata": {
  "kernelspec": {
   "display_name": "Python 3 (ipykernel)",
   "language": "python",
   "name": "python3"
  },
  "language_info": {
   "codemirror_mode": {
    "name": "ipython",
    "version": 3
   },
   "file_extension": ".py",
   "mimetype": "text/x-python",
   "name": "python",
   "nbconvert_exporter": "python",
   "pygments_lexer": "ipython3",
   "version": "3.11.5"
  }
 },
 "nbformat": 4,
 "nbformat_minor": 4
}
