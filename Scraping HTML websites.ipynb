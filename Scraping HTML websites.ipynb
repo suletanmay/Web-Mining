{
 "cells": [
  {
   "cell_type": "code",
   "execution_count": 3,
   "metadata": {},
   "outputs": [],
   "source": [
    "# Read this first: https://www.w3schools.com/html/default.asp\n",
    "from bs4 import BeautifulSoup\n",
    "import re\n",
    "import time\n",
    "import requests\n",
    "import csv"
   ]
  },
  {
   "cell_type": "code",
   "execution_count": 4,
   "metadata": {},
   "outputs": [],
   "source": [
    "\n",
    "def run(url):\n",
    "\n",
    "    fw=open('reviews.txt','w',encoding='utf8') # output file\n",
    "\n",
    "    writer=csv.writer(fw,lineterminator='\\n')#create a csv writer for this file\n",
    "    \n",
    "    for i in range(5): # try 5 times\n",
    "            #send a request to access the url\n",
    "            response=requests.get(url,headers = { 'User-Agent': 'Mozilla/5.0 (Windows NT 6.1) AppleWebKit/537.36 (KHTML, like Gecko) Chrome/41.0.2228.0 Safari/537.36', })\n",
    "            if response: # explanation on response codes: https://realpython.com/python-requests/#status-codes\n",
    "                break # we got the file, break the loop\n",
    "            else:\n",
    "                print('fail',i)\n",
    "                time.sleep(2) # wait 2 secs\n",
    "            \n",
    "   \n",
    "    # all five attempts failed, return  None\n",
    "    if not response: return None\n",
    "    \n",
    "    html=response.text# read in the text from the file\n",
    "    \n",
    "    soup = BeautifulSoup(html,'html') # parse the html \n",
    "\n",
    "    reviews=soup.findAll('div', {'class':'review-row'}) # get all the review divs\n",
    "\n",
    "    for review in reviews:\n",
    "       \n",
    "        critic,text='NA','NA' # initialize critic and text \n",
    "        criticChunk=review.find('a',{'href':re.compile('/critics/')})\n",
    "        if criticChunk: critic=criticChunk.text.strip()\n",
    "        \n",
    "        textChunk=review.find('p',{'class':'review-text'})\n",
    "        if textChunk: text=textChunk.text.strip()\n",
    "            \n",
    "        writer.writerow([critic,text]) # write to file \n",
    "        \n",
    "    fw.close()\n",
    "\n",
    "\n"
   ]
  },
  {
   "cell_type": "code",
   "execution_count": 5,
   "metadata": {},
   "outputs": [],
   "source": [
    "url='https://www.rottentomatoes.com/m/space_jam/reviews/'\n",
    "run(url)\n"
   ]
  },
  {
   "cell_type": "code",
   "execution_count": null,
   "metadata": {},
   "outputs": [],
   "source": []
  }
 ],
 "metadata": {
  "kernelspec": {
   "display_name": "Python 3 (ipykernel)",
   "language": "python",
   "name": "python3"
  },
  "language_info": {
   "codemirror_mode": {
    "name": "ipython",
    "version": 3
   },
   "file_extension": ".py",
   "mimetype": "text/x-python",
   "name": "python",
   "nbconvert_exporter": "python",
   "pygments_lexer": "ipython3",
   "version": "3.11.5"
  }
 },
 "nbformat": 4,
 "nbformat_minor": 4
}
